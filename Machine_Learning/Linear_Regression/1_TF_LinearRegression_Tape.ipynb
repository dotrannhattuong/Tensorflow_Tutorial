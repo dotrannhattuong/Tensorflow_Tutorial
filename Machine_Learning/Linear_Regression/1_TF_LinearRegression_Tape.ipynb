{
  "nbformat": 4,
  "nbformat_minor": 0,
  "metadata": {
    "colab": {
      "provenance": []
    },
    "kernelspec": {
      "name": "python3",
      "display_name": "Python 3"
    },
    "language_info": {
      "name": "python"
    }
  },
  "cells": [
    {
      "cell_type": "code",
      "execution_count": 55,
      "metadata": {
        "id": "urF2wyw_RASw"
      },
      "outputs": [],
      "source": [
        "import numpy as np\n",
        "import tensorflow as tf\n",
        "import matplotlib.pyplot as plt"
      ]
    },
    {
      "cell_type": "code",
      "source": [
        "tf.test.is_gpu_available()"
      ],
      "metadata": {
        "id": "MlU_zzsARRH0"
      },
      "execution_count": null,
      "outputs": []
    },
    {
      "cell_type": "markdown",
      "source": [
        "## Training One Sample"
      ],
      "metadata": {
        "id": "3GNa-M3TS1jc"
      }
    },
    {
      "cell_type": "code",
      "source": [
        "# Load Data\n",
        "data = np.genfromtxt('./data.csv', delimiter=',')\n",
        "\n",
        "X = data[:, :-1]\n",
        "y = data[:, -1:]\n",
        "\n",
        "# theta\n",
        "W = tf.Variable(-0.34)\n",
        "b = tf.Variable(0.04)\n",
        "\n",
        "# forward\n",
        "def predict(X, W, b):\n",
        "  return X*W+b"
      ],
      "metadata": {
        "id": "yEbgfq0HRktd"
      },
      "execution_count": 77,
      "outputs": []
    },
    {
      "cell_type": "code",
      "source": [
        "# some params\n",
        "lr = 0.01\n",
        "epochs = 20\n",
        "losses = []\n",
        "\n",
        "for epoch in range(epochs):\n",
        "  for x_train, y_train in zip(X, y):\n",
        "    with tf.GradientTape(persistent=True) as tape:\n",
        "      # predict\n",
        "      y_hat = predict(x_train, W, b)\n",
        "\n",
        "      # Loss Function\n",
        "      loss = tf.square(y_hat - y_train)\n",
        "    \n",
        "    # debug\n",
        "    losses.append(loss)\n",
        "\n",
        "    # Gradient\n",
        "    dW, db = tape.gradient(loss, [W, b])\n",
        "\n",
        "    # Update weights\n",
        "    W.assign_sub(lr*dW)\n",
        "    b.assign_sub(lr*db)"
      ],
      "metadata": {
        "id": "yugFBtzgR3uE"
      },
      "execution_count": 78,
      "outputs": []
    },
    {
      "cell_type": "code",
      "source": [
        "# Visualize \n",
        "\n",
        "plt.plot(losses)\n",
        "plt.xlabel('Iteration')\n",
        "plt.ylabel('Loss')\n",
        "plt.show()"
      ],
      "metadata": {
        "colab": {
          "base_uri": "https://localhost:8080/",
          "height": 279
        },
        "id": "EdPF0NWfWwes",
        "outputId": "2753ebc3-381d-44d5-a665-c3627410ef9d"
      },
      "execution_count": 79,
      "outputs": [
        {
          "output_type": "display_data",
          "data": {
            "text/plain": [
              "<Figure size 432x288 with 1 Axes>"
            ],
            "image/png": "[encoded data removed]"
          },
          "metadata": {
            "needs_background": "light"
          }
        }
      ]
    },
    {
      "cell_type": "markdown",
      "source": [
        "## Training N Samples"
      ],
      "metadata": {
        "id": "mxBAAHtRW9In"
      }
    },
    {
      "cell_type": "code",
      "source": [
        "# Load Data\n",
        "data = np.genfromtxt('./data.csv', delimiter=',')\n",
        "\n",
        "X = data[:, :-1]\n",
        "y = data[:, -1:]\n",
        "\n",
        "# theta\n",
        "W = tf.Variable(-0.34)\n",
        "b = tf.Variable(0.04)\n",
        "\n",
        "# forward\n",
        "def predict(X, W, b):\n",
        "  return X*W+b"
      ],
      "metadata": {
        "id": "7X_HSVCsXsPD"
      },
      "execution_count": 70,
      "outputs": []
    },
    {
      "cell_type": "code",
      "source": [
        "# some params\n",
        "lr = 0.01\n",
        "epochs = 100\n",
        "losses = []\n",
        "\n",
        "for epoch in range(epochs):\n",
        "  x_train, y_train = X, y\n",
        "  with tf.GradientTape(persistent=True) as tape:\n",
        "    # predict\n",
        "    y_hat = predict(x_train, W, b)\n",
        "\n",
        "    # Loss Function\n",
        "    loss = tf.reduce_mean(tf.square(y_hat - y_train))\n",
        "  \n",
        "  # debug\n",
        "  losses.append(loss)\n",
        "\n",
        "  # Gradient\n",
        "  dW, db = tape.gradient(loss, [W, b])\n",
        "\n",
        "  # Update weights\n",
        "  W.assign_sub(lr*dW)\n",
        "  b.assign_sub(lr*db)"
      ],
      "metadata": {
        "id": "oC3fvDJWW-88"
      },
      "execution_count": 71,
      "outputs": []
    },
    {
      "cell_type": "code",
      "source": [
        "# Visualize \n",
        "\n",
        "plt.plot(losses)\n",
        "plt.xlabel('Iteration')\n",
        "plt.ylabel('Loss')\n",
        "plt.show()"
      ],
      "metadata": {
        "colab": {
          "base_uri": "https://localhost:8080/",
          "height": 279
        },
        "id": "RK9GEjk-YBZ7",
        "outputId": "a0f33a2e-6bd8-4f4c-c9fd-5cbdf420533e"
      },
      "execution_count": 72,
      "outputs": [
        {
          "output_type": "display_data",
          "data": {
            "text/plain": [
              "<Figure size 432x288 with 1 Axes>"
            ],
            "image/png": "[encoded data removed]"
          },
          "metadata": {
            "needs_background": "light"
          }
        }
      ]
    }
  ]
}
{
  "cells": [
    {
      "cell_type": "code",
      "execution_count": 1,
      "metadata": {
        "id": "2vpWTIBrdUuB"
      },
      "outputs": [],
      "source": [
        "import numpy as np\n",
        "import tensorflow as tf\n",
        "import tensorflow.keras as keras\n",
        "import matplotlib.pyplot as plt"
      ]
    },
    {
      "cell_type": "code",
      "execution_count": 3,
      "metadata": {
        "colab": {
          "base_uri": "https://localhost:8080/"
        },
        "id": "AQwxRd4tez5i",
        "outputId": "940a3ad8-2122-497b-f80b-bf6bafacac70"
      },
      "outputs": [
        {
          "name": "stderr",
          "output_type": "stream",
          "text": [
            "WARNING:tensorflow:From <ipython-input-3-17bb7203622b>:1: is_gpu_available (from tensorflow.python.framework.test_util) is deprecated and will be removed in a future version.\n",
            "Instructions for updating:\n",
            "Use `tf.config.list_physical_devices('GPU')` instead.\n"
          ]
        },
        {
          "data": {
            "text/plain": [
              "False"
            ]
          },
          "execution_count": 3,
          "metadata": {},
          "output_type": "execute_result"
        }
      ],
      "source": [
        "tf.test.is_gpu_available()"
      ]
    },
    {
      "cell_type": "markdown",
      "metadata": {
        "id": "msSLKDnomwtC"
      },
      "source": [
        "## Load Data"
      ]
    },
    {
      "cell_type": "code",
      "execution_count": 48,
      "metadata": {
        "id": "We6MX0CMe_lC"
      },
      "outputs": [],
      "source": [
        "## Load Data\n",
        "data = np.genfromtxt('data.csv', delimiter=',')\n",
        "X = data[:, :-1]\n",
        "y = data[:, -1:]"
      ]
    },
    {
      "cell_type": "markdown",
      "metadata": {
        "id": "rWhQAtVcmy5g"
      },
      "source": [
        "## Create Model"
      ]
    },
    {
      "cell_type": "markdown",
      "metadata": {
        "id": "lENiXUKCnLLX"
      },
      "source": [
        "### Cách 1"
      ]
    },
    {
      "cell_type": "code",
      "execution_count": 49,
      "metadata": {
        "colab": {
          "base_uri": "https://localhost:8080/"
        },
        "id": "XfgiEOuQfLAa",
        "outputId": "6cd4af76-28bc-4fb4-a84d-bec9bdcf94e5"
      },
      "outputs": [
        {
          "name": "stdout",
          "output_type": "stream",
          "text": [
            "Model: \"sequential_8\"\n",
            "_________________________________________________________________\n",
            " Layer (type)                Output Shape              Param #   \n",
            "=================================================================\n",
            " dense_7 (Dense)             (None, 1)                 2         \n",
            "                                                                 \n",
            "=================================================================\n",
            "Total params: 2\n",
            "Trainable params: 2\n",
            "Non-trainable params: 0\n",
            "_________________________________________________________________\n"
          ]
        }
      ],
      "source": [
        "## Create Model\n",
        "model = keras.Sequential()\n",
        "model.add(keras.layers.Input(1,))\n",
        "model.add(keras.layers.Dense(1))\n",
        "\n",
        "model.summary()"
      ]
    },
    {
      "cell_type": "markdown",
      "metadata": {
        "id": "2hgA0OOvnJSA"
      },
      "source": [
        "### Cách 2"
      ]
    },
    {
      "cell_type": "code",
      "execution_count": 2,
      "metadata": {
        "id": "QetaEZ7vnItC"
      },
      "outputs": [],
      "source": [
        "model = keras.Sequential(keras.layers.Dense(units=1, input_shape=[1]))"
      ]
    },
    {
      "cell_type": "markdown",
      "metadata": {
        "id": "FXFe7xJQpKCv"
      },
      "source": [
        "## Visualize model"
      ]
    },
    {
      "cell_type": "code",
      "execution_count": 3,
      "metadata": {
        "colab": {
          "base_uri": "https://localhost:8080/",
          "height": 201
        },
        "id": "tJIih9WNo_c3",
        "outputId": "55d86970-24b1-4e75-cdbe-0d9269f4a764"
      },
      "outputs": [
        {
          "data": {
            "image/png": "[encoded data removed]",
            "text/plain": [
              "<IPython.core.display.Image object>"
            ]
          },
          "execution_count": 3,
          "metadata": {},
          "output_type": "execute_result"
        }
      ],
      "source": [
        "from tensorflow.keras.utils import plot_model\n",
        "plot_model(model, to_file=\"my_model.png\", show_shapes=True)"
      ]
    },
    {
      "cell_type": "markdown",
      "metadata": {
        "id": "6bdBatmdm1HK"
      },
      "source": [
        "## Training"
      ]
    },
    {
      "cell_type": "code",
      "execution_count": null,
      "metadata": {
        "id": "M7lKVAdVfizp"
      },
      "outputs": [],
      "source": [
        "## declare optimization method and loss function\n",
        "\n",
        "####### Cách 1 #######\n",
        "model.compile(optimizer='sgd', loss='mean_squared_error')\n",
        "\n",
        "####### Cách 2 #######\n",
        "model.compile(optimizer=keras.optimizers.SGD(learning_rate=0.01), loss='mse')"
      ]
    },
    {
      "cell_type": "code",
      "execution_count": null,
      "metadata": {
        "id": "5XezaNC_nR6n"
      },
      "outputs": [],
      "source": [
        "## Param\n",
        "batch_size = 4\n",
        "epochs = 100\n",
        "\n",
        "history = model.fit(X, y, batch_size, epochs)"
      ]
    },
    {
      "cell_type": "markdown",
      "metadata": {
        "id": "drYl4FDrm6-Q"
      },
      "source": [
        "## Visualize Loss Function"
      ]
    },
    {
      "cell_type": "code",
      "execution_count": 20,
      "metadata": {
        "colab": {
          "base_uri": "https://localhost:8080/",
          "height": 279
        },
        "id": "ZsYttDQrgQC6",
        "outputId": "08542e2c-fc62-412d-bc47-823a56f536be"
      },
      "outputs": [
        {
          "data": {
            "image/png": "[encoded data removed]",
            "text/plain": [
              "<Figure size 432x288 with 1 Axes>"
            ]
          },
          "metadata": {
            "needs_background": "light"
          },
          "output_type": "display_data"
        }
      ],
      "source": [
        "import matplotlib.pyplot as plt\n",
        "\n",
        "# plot losses\n",
        "plt.plot(history.history['loss'])\n",
        "plt.xlabel('iteration')\n",
        "plt.ylabel('Loss')\n",
        "plt.show()"
      ]
    },
    {
      "cell_type": "markdown",
      "metadata": {
        "id": "1yKCX8Gfm2PY"
      },
      "source": [
        "## Get weights"
      ]
    },
    {
      "cell_type": "code",
      "execution_count": 41,
      "metadata": {
        "colab": {
          "base_uri": "https://localhost:8080/"
        },
        "id": "l39E8tOZf91L",
        "outputId": "53be6964-19fa-47d9-bced-04dd1b62408e"
      },
      "outputs": [
        {
          "name": "stdout",
          "output_type": "stream",
          "text": [
            "[array([[1.3035403]], dtype=float32), array([-0.0223108], dtype=float32)]\n"
          ]
        }
      ],
      "source": [
        "# parameters after one epoch\n",
        "print(model.layers[0].get_weights())"
      ]
    },
    {
      "cell_type": "markdown",
      "metadata": {
        "id": "3szK8oCem4hv"
      },
      "source": [
        "## Predict"
      ]
    },
    {
      "cell_type": "markdown",
      "metadata": {
        "id": "0b273taUno83"
      },
      "source": [
        "### Cách 1"
      ]
    },
    {
      "cell_type": "code",
      "execution_count": null,
      "metadata": {
        "id": "2O6-kK4RnqdH"
      },
      "outputs": [],
      "source": [
        "## Predict\n",
        "X_testing = [[5.0]]\n",
        "X_testing = np.array(X_testing)\n",
        "\n",
        "y_hat = model(X_testing)\n",
        "print(y_hat)"
      ]
    },
    {
      "cell_type": "markdown",
      "metadata": {
        "id": "YWey8dYKnqxo"
      },
      "source": [
        "### Cách 2"
      ]
    },
    {
      "cell_type": "code",
      "execution_count": 54,
      "metadata": {
        "colab": {
          "base_uri": "https://localhost:8080/"
        },
        "id": "ZWqkwkNGgK9B",
        "outputId": "cd5c1c5e-3c85-49a8-d23a-96d6025fc2c6"
      },
      "outputs": [
        {
          "name": "stdout",
          "output_type": "stream",
          "text": [
            "1/1 [==============================] - 0s 50ms/step\n",
            "[[6.2007194]]\n"
          ]
        }
      ],
      "source": [
        "## Predict\n",
        "X_testing = [[5.0]]\n",
        "\n",
        "y_hat = model.predict(X_testing)\n",
        "print(y_hat)"
      ]
    },
    {
      "cell_type": "markdown",
      "metadata": {
        "id": "ZVeLbQq8hzBB"
      },
      "source": [
        "## Save-Load Weights"
      ]
    },
    {
      "cell_type": "code",
      "execution_count": null,
      "metadata": {
        "id": "UBnCDPp0h2lZ"
      },
      "outputs": [],
      "source": [
        "# save weights\n",
        "checkpoint_path = \"my_model/model.ckpt\"\n",
        "model.save_weights(checkpoint_path)"
      ]
    },
    {
      "cell_type": "code",
      "execution_count": 30,
      "metadata": {
        "colab": {
          "base_uri": "https://localhost:8080/"
        },
        "id": "VzjtYCcjiAMh",
        "outputId": "e7da9438-ac85-409e-cb7e-6d5f1294a9fe"
      },
      "outputs": [
        {
          "name": "stdout",
          "output_type": "stream",
          "text": [
            "1/1 [==============================] - 0s 49ms/step\n",
            "[[6.5138087]]\n"
          ]
        }
      ],
      "source": [
        "import tensorflow as tf\n",
        "import tensorflow.keras as keras\n",
        "\n",
        "# create model\n",
        "model = tf.keras.Sequential(\n",
        "    [tf.keras.layers.Dense(units=1, input_shape=[1])])\n",
        "\n",
        "# load model\n",
        "model.load_weights('my_model/model.ckpt')\n",
        "\n",
        "X_testing = [[5.0]]\n",
        "y_hat = model.predict(X_testing)\n",
        "print(y_hat)"
      ]
    },
    {
      "cell_type": "markdown",
      "metadata": {
        "id": "FhpmZdxbiT47"
      },
      "source": [
        "## Save-Load Model"
      ]
    },
    {
      "cell_type": "code",
      "execution_count": null,
      "metadata": {
        "id": "2DB2G_Z-iVPJ"
      },
      "outputs": [],
      "source": [
        "# save entire model\n",
        "model.save('my_model/model.h5') "
      ]
    },
    {
      "cell_type": "code",
      "execution_count": 32,
      "metadata": {
        "colab": {
          "base_uri": "https://localhost:8080/"
        },
        "id": "-wYpP9zVicLg",
        "outputId": "a7df7a4a-a2d1-44d2-ee75-5b877b14a6c6"
      },
      "outputs": [
        {
          "name": "stdout",
          "output_type": "stream",
          "text": [
            "1/1 [==============================] - 0s 46ms/step\n",
            "[[6.5159726]]\n"
          ]
        }
      ],
      "source": [
        "import tensorflow as tf\n",
        "import tensorflow.keras as keras\n",
        "\n",
        "# load model\n",
        "model = tf.keras.models.load_model('my_model/model.h5')\n",
        "\n",
        "# testing\n",
        "X_testing = [[5.0]]\n",
        "y_hat = model.predict(X_testing)\n",
        "print(y_hat)"
      ]
    },
    {
      "cell_type": "markdown",
      "metadata": {
        "id": "wKS-ugXhihyI"
      },
      "source": [
        "## Initialize weights"
      ]
    },
    {
      "cell_type": "code",
      "execution_count": null,
      "metadata": {
        "id": "5xhbzPl-ijYQ"
      },
      "outputs": [],
      "source": [
        "## Load Data\n",
        "data = np.genfromtxt('data.csv', delimiter=',')\n",
        "X = data[:, :-1]\n",
        "y = data[:, -1:]\n",
        "\n",
        "# initialize parameters\n",
        "model.layers[0].set_weights([np.array([[-0.34]]), np.array([0.04])])\n",
        "\n",
        "# declare optimization method and loss function\n",
        "model.compile(optimizer='adam', loss='mean_squared_error')\n",
        "\n",
        "# training\n",
        "model.fit(X, y, 4, epochs=100)\n",
        "\n",
        "# parameters after one epoch\n",
        "print('weight-bias: \\n', model.layers[0].get_weights())"
      ]
    }
  ],
  "metadata": {
    "colab": {
      "collapsed_sections": [
        "rWhQAtVcmy5g",
        "lENiXUKCnLLX",
        "FXFe7xJQpKCv",
        "6bdBatmdm1HK",
        "drYl4FDrm6-Q",
        "1yKCX8Gfm2PY",
        "3szK8oCem4hv",
        "0b273taUno83",
        "YWey8dYKnqxo",
        "ZVeLbQq8hzBB",
        "FhpmZdxbiT47",
        "wKS-ugXhihyI"
      ],
      "provenance": []
    },
    "kernelspec": {
      "display_name": "Python 3",
      "language": "python",
      "name": "python3"
    },
    "language_info": {
      "name": "python",
      "version": "3.10.9 (tags/v3.10.9:1dd9be6, Dec  6 2022, 20:01:21) [MSC v.1934 64 bit (AMD64)]"
    },
    "vscode": {
      "interpreter": {
        "hash": "5219fb28c929662ca5c9207a4982241d6d17e79ead338f096c6b18abbb3be7d5"
      }
    }
  },
  "nbformat": 4,
  "nbformat_minor": 0
}

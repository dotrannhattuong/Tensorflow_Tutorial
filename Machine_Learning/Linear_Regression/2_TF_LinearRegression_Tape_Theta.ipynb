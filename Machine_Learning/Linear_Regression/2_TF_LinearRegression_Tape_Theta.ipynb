{
  "cells": [
    {
      "cell_type": "code",
      "execution_count": 1,
      "metadata": {
        "id": "OUs9_HA_ZD84"
      },
      "outputs": [],
      "source": [
        "import numpy as np\n",
        "import tensorflow as tf\n",
        "import matplotlib.pyplot as plt"
      ]
    },
    {
      "cell_type": "code",
      "execution_count": null,
      "metadata": {
        "id": "KurD4nuPa0ca"
      },
      "outputs": [],
      "source": [
        "tf.test.is_gpu_available()"
      ]
    },
    {
      "cell_type": "markdown",
      "metadata": {
        "id": "v0LHfhdua6H6"
      },
      "source": [
        "## One Sample"
      ]
    },
    {
      "cell_type": "code",
      "execution_count": 23,
      "metadata": {
        "id": "VbBzK9SKa-Ay"
      },
      "outputs": [],
      "source": [
        "# Load Data\n",
        "data = np.genfromtxt('./data.csv', delimiter=',')\n",
        "\n",
        "X = data[:, :-1]\n",
        "y = data[:, -1:]\n",
        "N_samples = X.shape[0]\n",
        "X = np.c_[np.ones((N_samples,1)), X]\n",
        "\n",
        "# theta\n",
        "theta = tf.Variable([[0.04], \n",
        "                     [-0.34]], \n",
        "                    dtype=tf.float64)\n",
        "# forward\n",
        "def predict(X, theta):\n",
        "  return tf.transpose(theta)@X"
      ]
    },
    {
      "cell_type": "code",
      "execution_count": 24,
      "metadata": {
        "id": "H4bCaqBEbzpS"
      },
      "outputs": [],
      "source": [
        "# some params\n",
        "lr = 0.01\n",
        "epochs = 20\n",
        "losses = []\n",
        "\n",
        "for epoch in range(epochs):\n",
        "  for x_train, y_train in zip(X, y):\n",
        "    x_train = x_train.reshape(2,1)\n",
        "\n",
        "    with tf.GradientTape(persistent=True) as tape:\n",
        "      # predict\n",
        "      y_hat = predict(x_train, theta)\n",
        "\n",
        "      # Loss Function\n",
        "      loss = tf.square(y_hat - y_train)\n",
        "    \n",
        "    # debug\n",
        "    losses.append(loss[0][0].numpy())\n",
        "\n",
        "    # Gradient\n",
        "    dtheta = tape.gradient(loss, theta)\n",
        "\n",
        "    # Update weights\n",
        "    theta.assign_sub(lr*dtheta)"
      ]
    },
    {
      "cell_type": "code",
      "execution_count": 25,
      "metadata": {
        "colab": {
          "base_uri": "https://localhost:8080/",
          "height": 279
        },
        "id": "XlmB2bM0cGIj",
        "outputId": "ab02d5ef-00ac-45f2-9c82-28ac4562b371"
      },
      "outputs": [
        {
          "data": {
            "image/png": "[encoded data removed]",
            "text/plain": [
              "<Figure size 432x288 with 1 Axes>"
            ]
          },
          "metadata": {
            "needs_background": "light"
          },
          "output_type": "display_data"
        }
      ],
      "source": [
        "# Visualize \n",
        "\n",
        "plt.plot(losses)\n",
        "plt.xlabel('Iteration')\n",
        "plt.ylabel('Loss')\n",
        "plt.show()"
      ]
    },
    {
      "cell_type": "markdown",
      "metadata": {
        "id": "7E2uZtDDc1Rq"
      },
      "source": [
        "## Training N Samples"
      ]
    },
    {
      "cell_type": "code",
      "execution_count": null,
      "metadata": {
        "id": "MhqFSgtyc3Qy"
      },
      "outputs": [],
      "source": [
        "# Load Data\n",
        "data = np.genfromtxt('./data.csv', delimiter=',')\n",
        "\n",
        "X = data[:, :-1]\n",
        "y = data[:, -1:]\n",
        "N_samples = X.shape[0]\n",
        "X = np.c_[np.ones((N_samples,1)), X]\n",
        "\n",
        "# theta\n",
        "theta = tf.Variable([[0.04], \n",
        "                     [-0.34]], \n",
        "                    dtype=tf.float64)\n",
        "# forward\n",
        "def predict(X, theta):\n",
        "  return tf.transpose(theta)@X"
      ]
    },
    {
      "cell_type": "code",
      "execution_count": 26,
      "metadata": {
        "id": "EeCVmw_7c5wC"
      },
      "outputs": [],
      "source": [
        "# some params\n",
        "lr = 0.01\n",
        "epochs = 20\n",
        "losses = []\n",
        "\n",
        "for epoch in range(epochs):\n",
        "  with tf.GradientTape(persistent=True) as tape:\n",
        "    # predict\n",
        "    y_hat = predict(x_train, theta)\n",
        "\n",
        "    # Loss Function\n",
        "    loss = tf.square(y_hat - y_train)\n",
        "  \n",
        "  # debug\n",
        "  losses.append(loss[0][0].numpy())\n",
        "\n",
        "  # Gradient\n",
        "  dtheta = tape.gradient(loss, theta)\n",
        "\n",
        "  # Update weights\n",
        "  theta.assign_sub(lr*dtheta)"
      ]
    },
    {
      "cell_type": "code",
      "execution_count": 27,
      "metadata": {
        "colab": {
          "base_uri": "https://localhost:8080/",
          "height": 279
        },
        "id": "bS2BJr7Jc8ni",
        "outputId": "6b623765-b0f4-493b-f724-a03ff5af4031"
      },
      "outputs": [
        {
          "data": {
            "image/png": "[encoded data removed]",
            "text/plain": [
              "<Figure size 432x288 with 1 Axes>"
            ]
          },
          "metadata": {
            "needs_background": "light"
          },
          "output_type": "display_data"
        }
      ],
      "source": [
        "# Visualize \n",
        "\n",
        "plt.plot(losses)\n",
        "plt.xlabel('Iteration')\n",
        "plt.ylabel('Loss')\n",
        "plt.show()"
      ]
    }
  ],
  "metadata": {
    "colab": {
      "provenance": []
    },
    "kernelspec": {
      "display_name": "Python 3",
      "language": "python",
      "name": "python3"
    },
    "language_info": {
      "name": "python",
      "version": "3.10.9 (tags/v3.10.9:1dd9be6, Dec  6 2022, 20:01:21) [MSC v.1934 64 bit (AMD64)]"
    },
    "vscode": {
      "interpreter": {
        "hash": "5219fb28c929662ca5c9207a4982241d6d17e79ead338f096c6b18abbb3be7d5"
      }
    }
  },
  "nbformat": 4,
  "nbformat_minor": 0
}
